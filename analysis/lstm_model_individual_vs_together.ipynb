{
 "cells": [
  {
   "cell_type": "markdown",
   "metadata": {},
   "source": [
    "# Goals\n",
    "1. predict for every store individually\n",
    "- make stationary target by diff, yes/no?\n",
    "- z score normalization on train data\n",
    "- predict next 16 values directly vs recursively?\n",
    "2. predict store individually but with every pair/family as parameter\n",
    "- needs zscore normalization\n",
    "- stationary target yes/no?\n",
    "3. predict all store/family pairs simultaneously\n",
    "- zscore? maybe not needed\n",
    "- stationary?\n",
    "\n",
    "features:\n",
    "1. time features:\n",
    "- linear timestamp\n",
    "- sin/cos of year, check for (week/month) if pattern present\n",
    "- encoding of weekday, maybe also month\n",
    "2. oil/holidays/location should be ok\n"
   ]
  },
  {
   "cell_type": "code",
   "execution_count": null,
   "metadata": {},
   "outputs": [],
   "source": [
    "import tensorflow as tf\n",
    "tf.random.set_seed(42)\n",
    "import numpy as np\n",
    "np.random.seed(42)\n",
    "\n",
    "import pandas as pd\n",
    "import matplotlib.pyplot as plt\n",
    "%matplotlib inline\n",
    "import seaborn as sns\n",
    "from datetime import datetime\n",
    "import plotly.offline as pyo\n",
    "from plotly import subplots\n",
    "import plotly.graph_objects as go\n",
    "import statsmodels.api as sm\n",
    "import statsmodels.tsa.api as smt\n",
    "\n",
    "from statsmodels.tsa.arima.model import ARIMA\n",
    "from sklearn.model_selection import TimeSeriesSplit\n",
    "from sklearn.metrics import mean_squared_log_error\n",
    "\n",
    "\n",
    "from keras.models import Model\n",
    "from sklearn.model_selection import TimeSeriesSplit\n",
    "from tensorflow.keras.models import Sequential\n",
    "#from tensorflow.keras.layers import LSTM, Dense,Input,concatenate\n",
    "from tensorflow import keras\n",
    "from tensorflow.keras.layers import *\n",
    "\n",
    "\n",
    "from baseFunctions import *\n",
    "from data_helpers import processData6"
   ]
  },
  {
   "cell_type": "code",
   "execution_count": null,
   "metadata": {},
   "outputs": [],
   "source": [
    "data, propDicts, flippedPropDicts = processData6()"
   ]
  },
  {
   "cell_type": "code",
   "execution_count": null,
   "metadata": {},
   "outputs": [],
   "source": [
    "data1 = data.copy()"
   ]
  },
  {
   "cell_type": "markdown",
   "metadata": {},
   "source": [
    "# feature engineering\n",
    "\n",
    "aggregated data\n",
    "- there is some linear trend "
   ]
  },
  {
   "cell_type": "code",
   "execution_count": null,
   "metadata": {},
   "outputs": [],
   "source": [
    "from scipy.signal import periodogram\n",
    "def seasonal_plot(X, y, period, freq, ax=None):\n",
    "    if ax is None:\n",
    "        _, ax = plt.subplots()\n",
    "    palette = sns.color_palette(\"husl\", n_colors=X[period].nunique(),)\n",
    "    ax = sns.lineplot(\n",
    "        x=freq,\n",
    "        y=y,\n",
    "        hue=period,\n",
    "        data=X,\n",
    "        ci=False,\n",
    "        ax=ax,\n",
    "        palette=palette,\n",
    "        legend=False,\n",
    "    )\n",
    "    ax.set_title(f\"Seasonal Plot ({period}/{freq})\")\n",
    "    for line, name in zip(ax.lines, X[period].unique()):\n",
    "        y_ = line.get_ydata()[-1]\n",
    "        ax.annotate(\n",
    "            name,\n",
    "            xy=(1, y_),\n",
    "            xytext=(6, 0),\n",
    "            color=line.get_color(),\n",
    "            xycoords=ax.get_yaxis_transform(),\n",
    "            textcoords=\"offset points\",\n",
    "            size=14,\n",
    "            va=\"center\",\n",
    "        )\n",
    "    return ax\n",
    "\n",
    "\n",
    "def plot_periodogram(ts, cyclesPerUnit, n_domFreq = 15, detrend='linear', ax=None):\n",
    "    freqencies, power = periodogram(\n",
    "        ts,\n",
    "        fs=cyclesPerUnit,\n",
    "        detrend=detrend,\n",
    "        window=\"boxcar\",\n",
    "        scaling='spectrum',\n",
    "    )\n",
    "    if ax is None:\n",
    "        _, ax = plt.subplots()\n",
    "    ax.step(freqencies, power, color=\"purple\")\n",
    "    ax.set_xscale(\"log\")\n",
    "    ax.set_ylabel(\"Variance\")\n",
    "    ax.set_title(\"Periodogram\")\n",
    "\n",
    "    sorted_indices = np.argsort(power)[::-1]  # Sort indices in descending order of power\n",
    "    dominant_freqs = freqencies[sorted_indices[:n_domFreq]]\n",
    "    print(dominant_freqs)\n",
    "    #return freqencies, power "
   ]
  },
  {
   "cell_type": "code",
   "execution_count": null,
   "metadata": {},
   "outputs": [],
   "source": [
    "dailyData = data1.groupby('date')['sales'].sum()"
   ]
  },
  {
   "cell_type": "code",
   "execution_count": null,
   "metadata": {},
   "outputs": [],
   "source": [
    "dec = sm.tsa.seasonal_decompose(dailyData,period = 12, model = 'additive').plot()\n",
    "plt.show()"
   ]
  },
  {
   "cell_type": "code",
   "execution_count": null,
   "metadata": {},
   "outputs": [],
   "source": [
    "plot_periodogram(dailyData, 365, n_domFreq=30)\n",
    "\n",
    "# strong frequencies     => TimePeriod \n",
    "# 52 (weekly) 365/52     = 7 days\n",
    "# 24 (biweekly) 365/24   = 15 days (half-month)\n",
    "# 104 (halfweek) 365/104 = 3.5 = 3.5 days \n",
    "# 12 (monthly)  365/12   = 30 days\n",
    "# 6 (bimonthly)          = 60 days\n",
    "# 4 (quarters)           = 90 days\n",
    "# 3 (thirds)             = 120 days\n",
    "# 2 (half-year)          = 182\n",
    "# 1 (yearly)             = 365 "
   ]
  },
  {
   "cell_type": "code",
   "execution_count": null,
   "metadata": {},
   "outputs": [],
   "source": [
    "tsplot(dailyData)"
   ]
  },
  {
   "cell_type": "code",
   "execution_count": null,
   "metadata": {},
   "outputs": [],
   "source": [
    "data1['date'] = pd.to_datetime(data1['date'])\n",
    "data1.date"
   ]
  },
  {
   "cell_type": "code",
   "execution_count": null,
   "metadata": {},
   "outputs": [],
   "source": [
    "from statsmodels.tsa.deterministic import CalendarFourier, DeterministicProcess\n",
    "\n",
    "\n",
    "# Create a DeterministicProcess object with the Fourier terms\n",
    "dp = DeterministicProcess(index=data1.set_index('date').index, constant=True, \n",
    "                          fourier=CalendarFourier(freq=\"A\", order=2))\n",
    "\n",
    "# Get the deterministic terms\n",
    "deterministic_terms = dp.in_sample()"
   ]
  },
  {
   "cell_type": "code",
   "execution_count": null,
   "metadata": {},
   "outputs": [],
   "source": []
  },
  {
   "cell_type": "code",
   "execution_count": null,
   "metadata": {},
   "outputs": [],
   "source": [
    "# add week feature\n",
    "data1['weekday'] = data1['date'].dt.weekday\n",
    "#pd.get_dummies(data1['weekday']) add one how encoding if necessary\n",
    "data1['month'] = data1['date'].dt.month"
   ]
  },
  {
   "cell_type": "code",
   "execution_count": null,
   "metadata": {},
   "outputs": [],
   "source": []
  }
 ],
 "metadata": {
  "kernelspec": {
   "display_name": "Python 3.11.5",
   "language": "python",
   "name": "python3"
  },
  "language_info": {
   "codemirror_mode": {
    "name": "ipython",
    "version": 3
   },
   "file_extension": ".py",
   "mimetype": "text/x-python",
   "name": "python",
   "nbconvert_exporter": "python",
   "pygments_lexer": "ipython3",
   "version": "3.11.5"
  },
  "orig_nbformat": 4,
  "vscode": {
   "interpreter": {
    "hash": "60f2b4b2b39245c89a47c8dbe671288aea181e96fbe781c7f5f13eb9eb69cf46"
   }
  }
 },
 "nbformat": 4,
 "nbformat_minor": 2
}
