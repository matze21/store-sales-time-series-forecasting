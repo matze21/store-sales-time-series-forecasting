{
 "cells": [
  {
   "cell_type": "code",
   "execution_count": null,
   "metadata": {},
   "outputs": [],
   "source": [
    "import tensorflow as tf\n",
    "tf.random.set_seed(42)\n",
    "import numpy as np\n",
    "np.random.seed(42)\n",
    "import time\n",
    "import pickle\n",
    "\n",
    "import pandas as pd\n",
    "import matplotlib.pyplot as plt\n",
    "%matplotlib inline\n",
    "import seaborn as sns\n",
    "from datetime import datetime\n",
    "import plotly.offline as pyo\n",
    "from plotly import subplots\n",
    "import plotly.graph_objects as go\n",
    "import statsmodels.api as sm\n",
    "import statsmodels.tsa.api as smt\n",
    "\n",
    "from statsmodels.tsa.arima.model import ARIMA\n",
    "from sklearn.model_selection import TimeSeriesSplit\n",
    "from sklearn.metrics import mean_squared_log_error\n",
    "from sklearn.model_selection import cross_val_score\n",
    "from sklearn.model_selection import train_test_split\n",
    "\n",
    "from statsmodels.tsa.statespace.sarimax import SARIMAX\n",
    "\n",
    "from datetime import datetime, timedelta\n",
    "\n",
    "\n",
    "from baseFunctions import *\n",
    "from data_helpers import processData6, featureEngineering, getSequencesFast, removeOutliers, create_sequences\n"
   ]
  },
  {
   "cell_type": "code",
   "execution_count": null,
   "metadata": {},
   "outputs": [],
   "source": [
    "data, propDicts, flippedPropDicts = processData6()\n",
    "data, timeFeatures = featureEngineering(data,splits=[2,2,2,2])"
   ]
  },
  {
   "cell_type": "code",
   "execution_count": null,
   "metadata": {},
   "outputs": [],
   "source": [
    "def calcLossArima(fitted, y_train, logTransform):\n",
    "    if not logTransform:\n",
    "        rmsleTrain = np.sqrt(mean_squared_log_error(fitted,y_train))\n",
    "    else:\n",
    "        y_train = np.reshape(y_train, fitted.shape)\n",
    "        rmsleTrain =  np.sqrt(np.mean((fitted-y_train)**2))\n",
    "    return rmsleTrain\n",
    "\n",
    "def plotArima(i, pred, y, len):\n",
    "    y = np.reshape(y, pred.shape)\n",
    "    x = range(len)   \n",
    "\n",
    "    fig, axs = plt.subplots(nrows=1, ncols=1, figsize=(8, 6))\n",
    "    axs.plot(x, np.exp(y[i:i+len])-1, color='blue',label='Original')\n",
    "    axs.plot(x, np.exp(pred[i:i+len])-1, color='red',label='pred')\n",
    "    axs.set_title('index: '+str(i))\n",
    "    fig.subplots_adjust(hspace=0.5)"
   ]
  },
  {
   "cell_type": "code",
   "execution_count": null,
   "metadata": {},
   "outputs": [],
   "source": [
    "# log transform & separation of data\n",
    "data['logSales'] = np.log(data.sales +1)\n",
    "\n",
    "date = \"2017-07-01\"\n",
    "familyId = 0\n",
    "storeId = 1\n",
    "train_subDf = data.loc[(data.dataT == 'train') & (data.family == familyId) & (data.store_nbr == storeId) & (data.date <= date)]\n",
    "test_subDf = data.loc[(data.dataT == 'train')  & (data.family == familyId) & (data.store_nbr == storeId) & (data.date > date)]"
   ]
  },
  {
   "cell_type": "markdown",
   "metadata": {},
   "source": [
    "# ARIMA experiments"
   ]
  },
  {
   "cell_type": "code",
   "execution_count": null,
   "metadata": {},
   "outputs": [],
   "source": [
    "from statsmodels.tsa.arima.model import ARIMA"
   ]
  },
  {
   "cell_type": "code",
   "execution_count": null,
   "metadata": {},
   "outputs": [],
   "source": [
    "f = 'logSales'#'transactions'# 'salesOrig' #target\n",
    "logTransform = f == 'logSales'\n",
    "y_trainArima = train_subDf[[f]]\n",
    "y_testArima = test_subDf[[f]]\n",
    "\n",
    "model = ARIMA(y_trainArima, order=(4, 1, 4))\n",
    "model_fit = model.fit()"
   ]
  },
  {
   "cell_type": "code",
   "execution_count": null,
   "metadata": {},
   "outputs": [],
   "source": [
    "fitted_values = model_fit.fittedvalues\n",
    "predicted_values = model_fit.forecast(steps=len(y_testArima))\n",
    "print('errors: ', calcLossArima(fitted_values, y_trainArima, logTransform), calcLossArima(predicted_values, y_testArima, logTransform))\n",
    "#plotArima(0, predicted_values, y_testArima, 10)"
   ]
  },
  {
   "cell_type": "code",
   "execution_count": null,
   "metadata": {},
   "outputs": [],
   "source": [
    "#errors:  0.633163370502466  0.5900711105335015  for 5,1,5 Arima  -> 5,1,5 seems best\n",
    "#errors:  0.6334058506575241 0.5930226716168197  for 4,1,4\n",
    "#errors:  0.6260654735614449 0.6001774588517368  for 10,1,10\n",
    "#errors:  0.6358046366759819 0.5964152567744612  for 3,1,3\n",
    "#errors:  0.6474186219187706 0.6044976113096909  for 1,1,1\n",
    "#errors:  0.6414325407019292 0.6160611543945549  for 6,1,6"
   ]
  },
  {
   "cell_type": "markdown",
   "metadata": {},
   "source": [
    "# ARIMA prediction"
   ]
  },
  {
   "cell_type": "code",
   "execution_count": null,
   "metadata": {},
   "outputs": [],
   "source": [
    "log = {}\n",
    "predictions = []\n",
    "for familyId in data.family.unique():\n",
    "    print(familyId)\n",
    "    familyDf = data.loc[data.family==familyId]\n",
    "    log1 ={}\n",
    "\n",
    "    for storeId in data.store_nbr.unique():\n",
    "        print('store',storeId)\n",
    "        storeDf = familyDf.loc[(familyDf.store_nbr == storeId) & (storeDf.date > \"2015-07-01\")]\n",
    "        train = storeDf.loc[storeDf.dataT =='train']\n",
    "        test = storeDf.loc[storeDf.dataT =='test']\n",
    "\n",
    "        y_trainArima = np.log(train.sales+1)\n",
    "\n",
    "        model = ARIMA(y_trainArima, order=(5, 1, 5))\n",
    "        model_fit = model.fit()\n",
    "        fitted_values = model_fit.fittedvalues\n",
    "        log1[storeId] = calcLossArima(fitted_values, y_trainArima, True)\n",
    "        predicted_values = model_fit.forecast(steps=16)\n",
    "\n",
    "        test['sales'] = np.reshape(np.exp(predicted_values)-1, (-1,1))\n",
    "        predictions.append(test[['id','sales']])\n",
    "\n",
    "    print(log1)\n",
    "    log[familyId] = log1\n"
   ]
  },
  {
   "cell_type": "markdown",
   "metadata": {},
   "source": [
    "# SARIMA"
   ]
  },
  {
   "cell_type": "code",
   "execution_count": null,
   "metadata": {},
   "outputs": [],
   "source": [
    "date = \"2017-07-01\"\n",
    "familyId = 6\n",
    "storeId = 41\n",
    "#data.index = pd.DatetimeIndex(data.index).to_period('D')\n",
    "train_subDf = data.loc[(data.dataT == 'train') & (data.family == familyId) & (data.store_nbr == storeId) & (data.date <= date)]\n",
    "test_subDf = data.loc[(data.dataT == 'train')  & (data.family == familyId) & (data.store_nbr == storeId) & (data.date > date)]"
   ]
  },
  {
   "cell_type": "code",
   "execution_count": null,
   "metadata": {},
   "outputs": [],
   "source": [
    "f = 'logSales'#'transactions'# 'salesOrig' #target\n",
    "logTransform = f == 'logSales'\n",
    "y_trainSarima = train_subDf[[f]]\n",
    "#y_trainSarima.index = pd.DatetimeIndex(y_trainSarima.index).to_period('D')\n",
    "y_testSarima = test_subDf[[f]]\n",
    "\n",
    "model = SARIMAX(y_trainSarima, order=(3, 1, 3), seasonal_order=(1,1,1,7)) # Change the order parameters as needed\n",
    "model_fit = model.fit(disp=0)\n"
   ]
  },
  {
   "cell_type": "code",
   "execution_count": null,
   "metadata": {},
   "outputs": [],
   "source": [
    "model_fit.plot_diagnostics()"
   ]
  },
  {
   "cell_type": "code",
   "execution_count": null,
   "metadata": {},
   "outputs": [],
   "source": [
    "fitted_values = model_fit.fittedvalues\n",
    "predicted_values = model_fit.forecast(steps=len(y_testSarima))\n",
    "print('errors: ', calcLossArima(fitted_values, y_trainSarima, logTransform), calcLossArima(predicted_values, y_testSarima, logTransform))"
   ]
  },
  {
   "cell_type": "code",
   "execution_count": null,
   "metadata": {},
   "outputs": [],
   "source": [
    "# errors:  0.6247310111892052 0.5817735893367159  (5,1,5)(3,0,3,7)\n",
    "# errors:  0.6357538444884834 0.5629046800895323  (5,1,5)(1,1,1,7)\n",
    "# errors:  0.6314627377125411 0.5598850200083434  (5,1,5)(3,1,3,7)\n",
    "# errors:  0.6318720245837718 0.5509787578371821  (5,1,5)(5,1,5,7)\n",
    "# errors:  0.6442797678835153 0.5766299011076879  (5,1,5)(5,1,5,14)\n",
    "\n",
    "\n",
    "# (5,1,5)(5,1,5,7) ~80s\n",
    "#errors:  0.4879433387886212 0.38981586396161283  (5,1,5)(3,1,3,7) ~25s\n",
    "#errors:  0.4881281152176729 0.39805714173553747  (3,1,3)(3,1,3,7) ~19s\n",
    "#errors:  0.48888721375855865 0.38608270415221047 (3,1,3)(1,1,1,7) ~5s -> 3-4h\n",
    "#vs AMIRA \n",
    "#errors:  0.4955536970606146 0.4396591487588635\n"
   ]
  },
  {
   "cell_type": "markdown",
   "metadata": {},
   "source": [
    "# predict all values with sarima"
   ]
  },
  {
   "cell_type": "code",
   "execution_count": null,
   "metadata": {},
   "outputs": [],
   "source": [
    "\"\"\" predict with all data for now \"\"\"\n",
    "log = {}\n",
    "predictions = []\n",
    "for familyId in data.family.unique():\n",
    "    print('----family ----',familyId)\n",
    "    familyDf = data.loc[data.family==familyId]\n",
    "    log1 ={}\n",
    "\n",
    "    for storeId in data.store_nbr.unique():\n",
    "        print('----store ----',storeId)\n",
    "        storeDf = familyDf.loc[(familyDf.store_nbr == storeId)]# & (storeDf.date > \"2015-07-01\")]\n",
    "        train = storeDf.loc[storeDf.dataT =='train']\n",
    "        test = storeDf.loc[storeDf.dataT =='test']\n",
    "\n",
    "        y_trainSarima = np.log(train.sales+1)\n",
    "\n",
    "        model = SARIMAX(y_trainSarima, order=(3, 1, 3), seasonal_order=(1,1,1,7))\n",
    "        model_fit = model.fit(disp=0)\n",
    "        fitted_values = model_fit.fittedvalues\n",
    "        log1[storeId] = calcLossArima(fitted_values, y_trainSarima, True)\n",
    "        predicted_values = model_fit.forecast(steps=16)\n",
    "\n",
    "        test.loc[:,['sales']] = np.reshape(np.exp(predicted_values)-1, (-1,1))\n",
    "        predictions.append(test[['id','sales']])\n",
    "\n",
    "    print(log1)\n",
    "    log[familyId] = log1\n"
   ]
  },
  {
   "cell_type": "code",
   "execution_count": null,
   "metadata": {},
   "outputs": [],
   "source": [
    "predDf2 = pd.concat(predictions)\n",
    "a = predDf2.set_index('id')\n",
    "a.to_csv('simpleSarima_logT_313_1117.csv')"
   ]
  },
  {
   "cell_type": "code",
   "execution_count": null,
   "metadata": {},
   "outputs": [],
   "source": [
    "log"
   ]
  },
  {
   "cell_type": "markdown",
   "metadata": {},
   "source": [
    "# Garch"
   ]
  },
  {
   "cell_type": "code",
   "execution_count": null,
   "metadata": {},
   "outputs": [],
   "source": [
    "!pip install statsmodels arch pandas"
   ]
  },
  {
   "cell_type": "code",
   "execution_count": null,
   "metadata": {},
   "outputs": [],
   "source": [
    "from arch import arch_model"
   ]
  },
  {
   "cell_type": "code",
   "execution_count": null,
   "metadata": {},
   "outputs": [],
   "source": [
    "f = 'logSales'#'transactions'# 'salesOrig' #target\n",
    "logTransform = f == 'logSales'\n",
    "y_trainGarch= train_subDf[[f]]\n",
    "y_testGarch = test_subDf[[f]]\n",
    "\n",
    "# Assuming 'returns' is your time series data\n",
    "model = arch_model(y_trainGarch, vol='Garch', p=5, q=5) # Change the order parameters as needed\n",
    "model_fit = model.fit()\n",
    "print(model_fit.summary())"
   ]
  },
  {
   "cell_type": "code",
   "execution_count": null,
   "metadata": {},
   "outputs": [],
   "source": [
    "fitted_values = model_fit.fittedvalues\n",
    "predicted_values = model_fit.forecast(steps=len(y_testGarch))\n",
    "print('errors: ', calcLossArima(fitted_values, y_trainGarch, logTransform), calcLossArima(predicted_values, y_testGarch, logTransform))"
   ]
  }
 ],
 "metadata": {
  "kernelspec": {
   "display_name": "Python 3.10.13 ('storeSales')",
   "language": "python",
   "name": "python3"
  },
  "language_info": {
   "codemirror_mode": {
    "name": "ipython",
    "version": 3
   },
   "file_extension": ".py",
   "mimetype": "text/x-python",
   "name": "python",
   "nbconvert_exporter": "python",
   "pygments_lexer": "ipython3",
   "version": "3.10.13"
  },
  "orig_nbformat": 4,
  "vscode": {
   "interpreter": {
    "hash": "17f27e0cbed1f29822e509a94c958ed0e80b7d9abe162097755686a614de4732"
   }
  }
 },
 "nbformat": 4,
 "nbformat_minor": 2
}
